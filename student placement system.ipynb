{
 "cells": [
  {
   "cell_type": "code",
   "execution_count": 2,
   "metadata": {},
   "outputs": [],
   "source": [
    "import pandas as pd\n",
    "import numpy as np\n",
    "import sklearn as sk\n",
    "import matplotlib.pyplot as plt\n",
    "%matplotlib inline"
   ]
  },
  {
   "cell_type": "code",
   "execution_count": 3,
   "metadata": {},
   "outputs": [
    {
     "data": {
      "text/html": [
       "<div>\n",
       "<style scoped>\n",
       "    .dataframe tbody tr th:only-of-type {\n",
       "        vertical-align: middle;\n",
       "    }\n",
       "\n",
       "    .dataframe tbody tr th {\n",
       "        vertical-align: top;\n",
       "    }\n",
       "\n",
       "    .dataframe thead th {\n",
       "        text-align: right;\n",
       "    }\n",
       "</style>\n",
       "<table border=\"1\" class=\"dataframe\">\n",
       "  <thead>\n",
       "    <tr style=\"text-align: right;\">\n",
       "      <th></th>\n",
       "      <th>RegNo.</th>\n",
       "      <th>Quants</th>\n",
       "      <th>LogicalReasoning</th>\n",
       "      <th>Verbal</th>\n",
       "      <th>Programming</th>\n",
       "      <th>CGPA</th>\n",
       "      <th>Networking</th>\n",
       "      <th>CloudComp</th>\n",
       "      <th>WebServices</th>\n",
       "      <th>DataAnalytics</th>\n",
       "      <th>QualityAssurance</th>\n",
       "      <th>AI</th>\n",
       "      <th>Placed</th>\n",
       "    </tr>\n",
       "  </thead>\n",
       "  <tbody>\n",
       "    <tr>\n",
       "      <th>0</th>\n",
       "      <td>T150054001</td>\n",
       "      <td>11</td>\n",
       "      <td>11</td>\n",
       "      <td>10</td>\n",
       "      <td>11</td>\n",
       "      <td>10.00</td>\n",
       "      <td>4.3</td>\n",
       "      <td>8.2</td>\n",
       "      <td>8.4</td>\n",
       "      <td>8.3</td>\n",
       "      <td>8.1</td>\n",
       "      <td>8.0</td>\n",
       "      <td>1</td>\n",
       "    </tr>\n",
       "    <tr>\n",
       "      <th>1</th>\n",
       "      <td>T150054002</td>\n",
       "      <td>8</td>\n",
       "      <td>10</td>\n",
       "      <td>11</td>\n",
       "      <td>18</td>\n",
       "      <td>8.80</td>\n",
       "      <td>8.9</td>\n",
       "      <td>8.0</td>\n",
       "      <td>8.0</td>\n",
       "      <td>8.0</td>\n",
       "      <td>8.3</td>\n",
       "      <td>9.4</td>\n",
       "      <td>1</td>\n",
       "    </tr>\n",
       "    <tr>\n",
       "      <th>2</th>\n",
       "      <td>T150054003</td>\n",
       "      <td>11</td>\n",
       "      <td>11</td>\n",
       "      <td>10</td>\n",
       "      <td>8</td>\n",
       "      <td>9.63</td>\n",
       "      <td>8.4</td>\n",
       "      <td>8.0</td>\n",
       "      <td>8.0</td>\n",
       "      <td>8.0</td>\n",
       "      <td>8.0</td>\n",
       "      <td>5.4</td>\n",
       "      <td>1</td>\n",
       "    </tr>\n",
       "    <tr>\n",
       "      <th>3</th>\n",
       "      <td>T150054004</td>\n",
       "      <td>14</td>\n",
       "      <td>13</td>\n",
       "      <td>8</td>\n",
       "      <td>8</td>\n",
       "      <td>6.55</td>\n",
       "      <td>4.5</td>\n",
       "      <td>6.5</td>\n",
       "      <td>6.9</td>\n",
       "      <td>3.3</td>\n",
       "      <td>4.1</td>\n",
       "      <td>4.6</td>\n",
       "      <td>0</td>\n",
       "    </tr>\n",
       "    <tr>\n",
       "      <th>4</th>\n",
       "      <td>T150054005</td>\n",
       "      <td>10</td>\n",
       "      <td>7</td>\n",
       "      <td>7</td>\n",
       "      <td>10</td>\n",
       "      <td>7.27</td>\n",
       "      <td>3.1</td>\n",
       "      <td>5.6</td>\n",
       "      <td>6.7</td>\n",
       "      <td>4.6</td>\n",
       "      <td>2.7</td>\n",
       "      <td>4.4</td>\n",
       "      <td>0</td>\n",
       "    </tr>\n",
       "  </tbody>\n",
       "</table>\n",
       "</div>"
      ],
      "text/plain": [
       "       RegNo.  Quants  LogicalReasoning  Verbal  Programming   CGPA  \\\n",
       "0  T150054001      11                11      10           11  10.00   \n",
       "1  T150054002       8                10      11           18   8.80   \n",
       "2  T150054003      11                11      10            8   9.63   \n",
       "3  T150054004      14                13       8            8   6.55   \n",
       "4  T150054005      10                 7       7           10   7.27   \n",
       "\n",
       "   Networking  CloudComp  WebServices  DataAnalytics  QualityAssurance   AI  \\\n",
       "0         4.3        8.2          8.4            8.3               8.1  8.0   \n",
       "1         8.9        8.0          8.0            8.0               8.3  9.4   \n",
       "2         8.4        8.0          8.0            8.0               8.0  5.4   \n",
       "3         4.5        6.5          6.9            3.3               4.1  4.6   \n",
       "4         3.1        5.6          6.7            4.6               2.7  4.4   \n",
       "\n",
       "   Placed  \n",
       "0       1  \n",
       "1       1  \n",
       "2       1  \n",
       "3       0  \n",
       "4       0  "
      ]
     },
     "execution_count": 3,
     "metadata": {},
     "output_type": "execute_result"
    }
   ],
   "source": [
    "placement=pd.read_csv('finalplacementdata3.csv')\n",
    "placement.head()"
   ]
  },
  {
   "cell_type": "code",
   "execution_count": 4,
   "metadata": {},
   "outputs": [],
   "source": [
    "placement.drop(['RegNo.'],axis=1,inplace=True)"
   ]
  },
  {
   "cell_type": "code",
   "execution_count": 5,
   "metadata": {},
   "outputs": [],
   "source": [
    "x=placement[['Quants','LogicalReasoning','Verbal','Programming','CGPA','Networking','CloudComp','WebServices','DataAnalytics','QualityAssurance','AI']]\n",
    "y=placement[['Placed']]"
   ]
  },
  {
   "cell_type": "code",
   "execution_count": 6,
   "metadata": {},
   "outputs": [],
   "source": [
    "from sklearn.model_selection import train_test_split \n",
    "xtrain, xtest, ytrain, ytest = train_test_split( x, y, test_size = 0.25, random_state = 1)"
   ]
  },
  {
   "cell_type": "code",
   "execution_count": 7,
   "metadata": {},
   "outputs": [],
   "source": [
    "from sklearn.preprocessing import StandardScaler \n",
    "sc_x = StandardScaler() \n",
    "xtrain = sc_x.fit_transform(xtrain)  \n",
    "xtest = sc_x.transform(xtest)"
   ]
  },
  {
   "cell_type": "code",
   "execution_count": 8,
   "metadata": {},
   "outputs": [
    {
     "data": {
      "text/plain": [
       "array([[-0.39446116, -0.43165847,  0.2989944 ,  0.25675054,  0.27929625,\n",
       "         0.32609584, -0.12137091,  0.23622244,  0.09095222,  0.30051969,\n",
       "         0.5475546 ],\n",
       "       [ 0.52254502, -0.20624697,  0.2989944 , -0.4584831 ,  0.00493674,\n",
       "         0.32609584,  0.86693505, -0.32158772,  0.60152488, -0.33539309,\n",
       "        -0.27076545],\n",
       "       [-0.39446116, -0.20624697, -0.3933645 ,  0.25675054,  0.64510893,\n",
       "         0.63004178,  0.75712328,  0.12466041, -0.48344204,  0.58957096,\n",
       "        -0.19637272],\n",
       "       [-1.54071887, -2.00953901, -0.8549371 , -1.17371674, -1.18395446,\n",
       "        -1.74073652, -1.65873573, -1.54877006, -2.01516004, -1.83845966,\n",
       "        -1.53544187],\n",
       "       [-0.39446116,  0.46998755,  0.99135329,  0.25675054, -0.28466496,\n",
       "         0.56925259,  0.09825264,  0.12466041,  0.41006013,  0.30051969,\n",
       "        -0.27076545],\n",
       "       [ 0.9810481 ,  0.92081057,  0.0682081 ,  0.97198418, -0.33039154,\n",
       "         1.11635528, -0.78024155, -1.99501819,  0.98445439, -0.79787511,\n",
       "         0.24998367],\n",
       "       [-0.85296424, -1.10789299, -0.3933645 , -1.65053917, -1.00104812,\n",
       "        -0.70732034, -0.99986509, -1.325646  , -1.95133846, -1.6650289 ,\n",
       "        -1.38665641],\n",
       "       [ 0.06404193,  0.01916454, -0.1625782 ,  0.01833932,  0.23356967,\n",
       "        -0.22100684, -0.23118268,  0.23622244, -0.2281557 ,  0.01146843,\n",
       "        -0.19637272],\n",
       "       [ 0.29329347, -0.20624697,  0.99135329,  0.73357296, -0.07127423,\n",
       "         0.5084634 ,  0.75712328,  0.34778447,  0.1547738 , -0.21977258,\n",
       "        -0.27076545],\n",
       "       [ 0.75179656,  0.24457605,  0.52978069,  0.73357296, -0.28466496,\n",
       "         0.63004178,  0.75712328,  0.34778447,  0.34623855,  0.30051969,\n",
       "         0.3243764 ]])"
      ]
     },
     "execution_count": 8,
     "metadata": {},
     "output_type": "execute_result"
    }
   ],
   "source": [
    "xtrain[0:10, :]"
   ]
  },
  {
   "cell_type": "code",
   "execution_count": 9,
   "metadata": {},
   "outputs": [
    {
     "data": {
      "text/plain": [
       "LogisticRegressionCV(Cs=10, class_weight=None, cv=5, dual=False,\n",
       "                     fit_intercept=True, intercept_scaling=1.0, l1_ratios=None,\n",
       "                     max_iter=100, multi_class='auto', n_jobs=-1, penalty='l2',\n",
       "                     random_state=1, refit=True, scoring='accuracy',\n",
       "                     solver='lbfgs', tol=0.0001, verbose=0)"
      ]
     },
     "execution_count": 9,
     "metadata": {},
     "output_type": "execute_result"
    }
   ],
   "source": [
    "from sklearn.linear_model import LogisticRegressionCV \n",
    "classifier = LogisticRegressionCV(random_state = 1,cv=5,scoring='accuracy',n_jobs=-1,max_iter=100)\n",
    "classifier.fit(xtrain,ytrain.values.ravel())"
   ]
  },
  {
   "cell_type": "code",
   "execution_count": 10,
   "metadata": {},
   "outputs": [
    {
     "data": {
      "text/plain": [
       "0.8072289156626506"
      ]
     },
     "execution_count": 10,
     "metadata": {},
     "output_type": "execute_result"
    }
   ],
   "source": [
    "classifier.score(xtest,ytest)"
   ]
  },
  {
   "cell_type": "code",
   "execution_count": null,
   "metadata": {},
   "outputs": [],
   "source": []
  }
 ],
 "metadata": {
  "kernelspec": {
   "display_name": "Python 3",
   "language": "python",
   "name": "python3"
  },
  "language_info": {
   "codemirror_mode": {
    "name": "ipython",
    "version": 3
   },
   "file_extension": ".py",
   "mimetype": "text/x-python",
   "name": "python",
   "nbconvert_exporter": "python",
   "pygments_lexer": "ipython3",
   "version": "3.7.10"
  }
 },
 "nbformat": 4,
 "nbformat_minor": 4
}
